{
 "cells": [
  {
   "cell_type": "markdown",
   "source": [
    "# ArcFace"
   ],
   "metadata": {}
  },
  {
   "cell_type": "code",
   "execution_count": null,
   "source": [
    "import os\n",
    "from pathlib import Path\n",
    "from argparse import ArgumentParser\n",
    "import shutil\n",
    "import datetime\n",
    "\n",
    "import tqdm\n",
    "import torch\n",
    "import numpy as np\n",
    "from attrdict import AttrDict\n",
    "from sklearn.manifold import TSNE\n",
    "\n",
    "from trainers import get_trainer\n",
    "from dataset import get_dataset\n",
    "from models import get_model\n",
    "\n",
    "from utils import setup_logger, read_yaml, increment_path, save_yaml, save_hostname"
   ],
   "outputs": [],
   "metadata": {}
  },
  {
   "cell_type": "code",
   "execution_count": null,
   "source": [
    "arcface_config = dict(\n",
    "    model=dict(\n",
    "        name=\"resnet50\",\n",
    "        version=\"pytorch/vision:v0.10.0\",\n",
    "        pretrained=True\n",
    "    ),\n",
    "    loss=dict(\n",
    "        name=\"arcface\",\n",
    "        params=dict(\n",
    "            num_dim=512,\n",
    "            s=30.0,\n",
    "            m=0.50,\n",
    "            easy_margin=False, \n",
    "            size_average=None, \n",
    "            ignore_index=-100, \n",
    "            reduce=None, \n",
    "            reduction=\"mean\"\n",
    "        )\n",
    "    ),\n",
    "    init=dict(\n",
    "        name=\"xavier_uniform\", \n",
    "        params=dict(\n",
    "            gain=1.0,\n",
    "        )\n",
    "    ),\n",
    "    optimizer=dict(\n",
    "        name=\"sgd\", \n",
    "        params=dict(\n",
    "            lr=1.e-1, \n",
    "            momentum=0.9, \n",
    "            weight_decay=5.0e-4\n",
    "        )\n",
    "    ),\n",
    "    train=dict(\n",
    "        dset_type=\"clf\", \n",
    "        epoch=5, \n",
    "        batch_size=200, \n",
    "        num_workers=10\n",
    "    ),\n",
    "    device=\"0\"\n",
    ")\n",
    "\n",
    "dset_config=dict(\n",
    "    name=\"mnist\", \n",
    "    classes=10, \n",
    "    root=\"../storage\", \n",
    "    download=True, \n",
    "    transforms=dict(\n",
    "        resize=256,\n",
    "        RGB=True\n",
    "    ),\n",
    "    target_transform=None, \n",
    "    num_channel=1\n",
    ")\n",
    "\n",
    "arcface_config = AttrDict(arcface_config)\n",
    "dset_config    = AttrDict(dset_config)"
   ],
   "outputs": [],
   "metadata": {}
  },
  {
   "cell_type": "code",
   "execution_count": null,
   "source": [
    "dset = get_dataset(arcface_config, dset_config, mode=\"train\")\n",
    "valid_dset = get_dataset(arcface_config, dset_config, mode=\"valid\")\n",
    "model = get_model(arcface_config, dset_config)\n",
    "trainer = get_trainer(arcface_config, dset_config)\n",
    "trainer.train(dataset=dset, valid_dataset=valid_dset, model=model)"
   ],
   "outputs": [],
   "metadata": {}
  },
  {
   "cell_type": "code",
   "execution_count": null,
   "source": [
    "model = trainer.model"
   ],
   "outputs": [],
   "metadata": {}
  },
  {
   "cell_type": "code",
   "execution_count": null,
   "source": [
    "valid_dloader = torch.utils.data.DataLoader(\n",
    "    valid_dset,\n",
    "    batch_size=100,\n",
    "    shuffle=True,\n",
    "    num_workers=1,\n",
    ")\n",
    "device = trainer.device\n",
    "\n",
    "\n",
    "acc = 0.\n",
    "lt_embedding = list()\n",
    "lt_labels = list()\n",
    "with torch.inference_mode():\n",
    "    for x, labels in tqdm.tqdm(valid_dloader):\n",
    "        x = x.to(device)\n",
    "        output = model(x)\n",
    "        output = output.cpu()\n",
    "        lt_embedding.append(output.numpy())\n",
    "        lt_labels.append(labels.numpy())\n",
    "        acc += (output.argmax(dim=1) == labels).sum() / len(labels)\n",
    "\n",
    "print(acc)"
   ],
   "outputs": [],
   "metadata": {}
  },
  {
   "cell_type": "code",
   "execution_count": null,
   "source": [
    "# t-sneの追加\n",
    "array_embedding = np.vstack(lt_embedding).astype(float)\n",
    "array_labels    = np.hstack(lt_labels).astype(int)\n",
    "X_embedding = TSNE(n_components=2, learning_rate='auto', init='random').fit_transform(array_embedding)"
   ],
   "outputs": [],
   "metadata": {}
  },
  {
   "cell_type": "code",
   "execution_count": null,
   "source": [
    "import matplotlib.pyplot as plt\n",
    "plt.scatter(X_embedding[:, 0], X_embedding[:, 1],\n",
    "            c=array_labels, cmap='jet')\n",
    "plt.colorbar()\n",
    "plt.show()"
   ],
   "outputs": [],
   "metadata": {}
  }
 ],
 "metadata": {
  "orig_nbformat": 4,
  "language_info": {
   "name": "python",
   "version": "3.9.6",
   "mimetype": "text/x-python",
   "codemirror_mode": {
    "name": "ipython",
    "version": 3
   },
   "pygments_lexer": "ipython3",
   "nbconvert_exporter": "python",
   "file_extension": ".py"
  },
  "kernelspec": {
   "name": "python3",
   "display_name": "Python 3.9.6 64-bit ('3.9.6_bench': pyenv)"
  },
  "interpreter": {
   "hash": "d3b0826f8eb24aa0776366ab4854605dd6422315d7e3df09396b14fb6edab0db"
  }
 },
 "nbformat": 4,
 "nbformat_minor": 2
}